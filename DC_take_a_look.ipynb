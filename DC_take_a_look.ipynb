{
 "cells": [
  {
   "cell_type": "markdown",
   "metadata": {},
   "source": [
    "# project for openstreet map exploration!!"
   ]
  },
  {
   "cell_type": "code",
   "execution_count": 1,
   "metadata": {
    "collapsed": false
   },
   "outputs": [],
   "source": [
    "import csv\n",
    "import codecs\n",
    "import pprint\n",
    "import re\n",
    "import xml.etree.cElementTree as ET\n",
    "import cerberus\n",
    "from collections import defaultdict"
   ]
  },
  {
   "cell_type": "code",
   "execution_count": 2,
   "metadata": {
    "collapsed": true
   },
   "outputs": [],
   "source": [
    "OSM_PATH = \"DC.osm\""
   ]
  },
  {
   "cell_type": "code",
   "execution_count": 3,
   "metadata": {
    "collapsed": true
   },
   "outputs": [],
   "source": [
    "## how many varibles the attributes K has\n",
    "VARIABLES=[]\n",
    "VALUE={}"
   ]
  },
  {
   "cell_type": "code",
   "execution_count": 1,
   "metadata": {
    "collapsed": false
   },
   "outputs": [
    {
     "data": {
      "text/plain": [
       "'for i, attribute in enumerate(VARIABLES):\\n    possiblevalues=[]\\n    for event,elem in ET.iterparse(OSM_PATH,events=(\"start\",)):\\n        if elem.tag==\"node\":\\n            for tag in elem.iter(\"tag\"):\\n                if tag.attrib[\\'k\\']==attribute:\\n                    x=tag.attrib[\\'v\\']  \\n                    if x not in possiblevalues:\\n                        possiblevalues.append(x)\\n    VALUE[attribute]=possiblevalues\\n            '"
      ]
     },
     "execution_count": 1,
     "metadata": {},
     "output_type": "execute_result"
    }
   ],
   "source": [
    "## get the variables in k\n",
    "for event,elem in ET.iterparse(OSM_PATH,events=(\"start\",)):\n",
    "    if elem.tag==\"node\":\n",
    "        for tag in elem.iter(\"tag\"):\n",
    "            x=tag.attrib['k']    \n",
    "            if x not in VARIABLES:\n",
    "                VARIABLES.append(x)\n",
    "            \n",
    "## get the possible value for each variable:\n",
    "for i, attribute in enumerate(VARIABLES):\n",
    "    possiblevalues=[]\n",
    "    for event,elem in ET.iterparse(OSM_PATH,events=(\"start\",)):\n",
    "        if elem.tag==\"node\":\n",
    "            for tag in elem.iter(\"tag\"):\n",
    "                if tag.attrib['k']==attribute:\n",
    "                    x=tag.attrib['v']  \n",
    "                    if x not in possiblevalues:\n",
    "                        possiblevalues.append(x)\n",
    "    VALUE[attribute]=possiblevalues\n",
    "            \n",
    "            \n",
    "                "
   ]
  },
  {
   "cell_type": "markdown",
   "metadata": {},
   "source": [
    "### all possible values for possible key"
   ]
  },
  {
   "cell_type": "code",
   "execution_count": 2,
   "metadata": {
    "collapsed": false
   },
   "outputs": [],
   "source": [
    "VALUE"
   ]
  },
  {
   "cell_type": "markdown",
   "metadata": {},
   "source": [
    "### audit the state name"
   ]
  },
  {
   "cell_type": "code",
   "execution_count": 235,
   "metadata": {
    "collapsed": true
   },
   "outputs": [],
   "source": [
    "expected_state=['VA','DC','MD']"
   ]
  },
  {
   "cell_type": "code",
   "execution_count": 236,
   "metadata": {
    "collapsed": true
   },
   "outputs": [],
   "source": [
    "def audit_state_type(state_name):\n",
    "    if state_name not in expected_state:\n",
    "         state_names.append(state_name)"
   ]
  },
  {
   "cell_type": "code",
   "execution_count": 3,
   "metadata": {
    "collapsed": false
   },
   "outputs": [],
   "source": [
    "VALUE['addr:state']\n",
    "['Virginia', 'MD', 'DC', 'VA', 'va', 'dc']\n",
    "for i ,name in enumerate (VALUE['addr:state']):\n",
    "    audit_state_type(name)\n",
    "state_names"
   ]
  },
  {
   "cell_type": "markdown",
   "metadata": {},
   "source": [
    "### audit the street name "
   ]
  },
  {
   "cell_type": "code",
   "execution_count": 238,
   "metadata": {
    "collapsed": false
   },
   "outputs": [],
   "source": [
    "expected_street_end=[\"Street\", \"Avenue\", \"Boulevard\", \"Drive\", \"Court\", \"Place\", \"Square\", \"Lane\", \"Road\", \n",
    "            \"Trail\", \"Parkway\", \"Commons\",'Northwest','Southeast','Northeast','Southwest','South','North','East','West',\n",
    "            'Circle','Way','Highway','Pike','Plaza']\n",
    "street_type_re = re.compile(r'\\b\\S+\\.?$', re.IGNORECASE)\n",
    "street_types = defaultdict(set)"
   ]
  },
  {
   "cell_type": "code",
   "execution_count": 239,
   "metadata": {
    "collapsed": true
   },
   "outputs": [],
   "source": [
    "def audit_street_type(street_name):\n",
    "    m=street_type_re.search(street_name)\n",
    "    if m:\n",
    "        street_type=m.group()\n",
    "        if street_type not in expected_street_end:\n",
    "            street_types[street_type].add(street_name)"
   ]
  },
  {
   "cell_type": "code",
   "execution_count": 240,
   "metadata": {
    "collapsed": false
   },
   "outputs": [],
   "source": [
    "for i ,name in enumerate (VALUE['addr:street']):\n",
    "    audit_street_type(name)"
   ]
  },
  {
   "cell_type": "code",
   "execution_count": 241,
   "metadata": {
    "collapsed": false
   },
   "outputs": [
    {
     "data": {
      "text/plain": [
       "defaultdict(set,\n",
       "            {'1': {'1'},\n",
       "             '100': {'L St NW #100'},\n",
       "             '2': {'South Glebe Road, Bldg. 2'},\n",
       "             'Hill': {'Capitol Hill'},\n",
       "             'Hwy': {'Jefferson Davis Hwy'},\n",
       "             'Ln': {'Slaters Ln'},\n",
       "             'Mews': {'North Glebe Mews'},\n",
       "             'NE': {'H St NE', 'Minnesota Avenue NE'},\n",
       "             'NW': {'Connecticut Ave NW',\n",
       "              'M Street NW',\n",
       "              'New Jersey Avenue NW',\n",
       "              'Pennsylvania Avenue NW',\n",
       "              'Wisconsin Avenue, NW'},\n",
       "             'SE': {'Pennsylvania Avenue SE'},\n",
       "             'SW': {'Half Street SW',\n",
       "              'Maryland Avenue SW',\n",
       "              'South CapitoL Street SW'},\n",
       "             'St': {'N. Rhodes St', 'North Stafford St'}})"
      ]
     },
     "execution_count": 241,
     "metadata": {},
     "output_type": "execute_result"
    }
   ],
   "source": [
    "street_types"
   ]
  },
  {
   "cell_type": "markdown",
   "metadata": {},
   "source": [
    "### cusine type"
   ]
  },
  {
   "cell_type": "code",
   "execution_count": 242,
   "metadata": {
    "collapsed": false
   },
   "outputs": [],
   "source": [
    "#VALUE['cuisine']"
   ]
  },
  {
   "cell_type": "markdown",
   "metadata": {},
   "source": [
    "### opening_hours"
   ]
  },
  {
   "cell_type": "code",
   "execution_count": 243,
   "metadata": {
    "collapsed": false
   },
   "outputs": [],
   "source": [
    "#VALUE['opening_hours']"
   ]
  },
  {
   "cell_type": "markdown",
   "metadata": {},
   "source": [
    "### prepare data ready for sql import"
   ]
  },
  {
   "cell_type": "markdown",
   "metadata": {},
   "source": [
    "##### schema"
   ]
  },
  {
   "cell_type": "code",
   "execution_count": 5,
   "metadata": {
    "collapsed": true
   },
   "outputs": [],
   "source": [
    "schema = {\n",
    "    'node': {\n",
    "        'type': 'dict',\n",
    "        'schema': {\n",
    "            'id': {'required': True, 'type': 'integer', 'coerce': int},\n",
    "            'lat': {'required': True, 'type': 'float', 'coerce': float},\n",
    "            'lon': {'required': True, 'type': 'float', 'coerce': float},\n",
    "            'user': {'required': True, 'type': 'string'},\n",
    "            'uid': {'required': True, 'type': 'integer', 'coerce': int},\n",
    "            'version': {'required': True, 'type': 'string'},\n",
    "            'changeset': {'required': True, 'type': 'integer', 'coerce': int},\n",
    "            'timestamp': {'required': True, 'type': 'string'}\n",
    "        }\n",
    "    },\n",
    "    'node_tags': {\n",
    "        'type': 'list',\n",
    "        'schema': {\n",
    "            'type': 'dict',\n",
    "            'schema': {\n",
    "                'id': {'required': True, 'type': 'integer', 'coerce': int},\n",
    "                'key': {'required': True, 'type': 'string'},\n",
    "                'value': {'required': True, 'type': 'string'},\n",
    "                'type': {'required': True, 'type': 'string'}\n",
    "            }\n",
    "        }\n",
    "    },\n",
    "    'node_openhours': {\n",
    "        'type': 'list',\n",
    "        'schema': {\n",
    "            'type': 'dict',\n",
    "            'schema': {\n",
    "                'id': {'required': True, 'type': 'integer', 'coerce': int},\n",
    "                'hour': {'required': True, 'type': 'string'},\n",
    "                'section':{'required': True, 'type': 'string'}\n",
    "            }\n",
    "        }\n",
    "    },\n",
    "    \n",
    "    'way': {\n",
    "        'type': 'dict',\n",
    "        'schema': {\n",
    "            'id': {'required': True, 'type': 'integer', 'coerce': int},\n",
    "            'user': {'required': True, 'type': 'string'},\n",
    "            'uid': {'required': True, 'type': 'integer', 'coerce': int},\n",
    "            'version': {'required': True, 'type': 'string'},\n",
    "            'changeset': {'required': True, 'type': 'integer', 'coerce': int},\n",
    "            'timestamp': {'required': True, 'type': 'string'}\n",
    "        }\n",
    "    },\n",
    "    'way_nodes': {\n",
    "        'type': 'list',\n",
    "        'schema': {\n",
    "            'type': 'dict',\n",
    "            'schema': {\n",
    "                'id': {'required': True, 'type': 'integer', 'coerce': int},\n",
    "                'node_id': {'required': True, 'type': 'integer', 'coerce': int},\n",
    "                'position': {'required': True, 'type': 'integer', 'coerce': int}\n",
    "            }\n",
    "        }\n",
    "    },\n",
    "    'way_tags': {\n",
    "        'type': 'list',\n",
    "        'schema': {\n",
    "            'type': 'dict',\n",
    "            'schema': {\n",
    "                'id': {'required': True, 'type': 'integer', 'coerce': int},\n",
    "                'key': {'required': True, 'type': 'string'},\n",
    "                'value': {'required': True, 'type': 'string'},\n",
    "                'type': {'required': True, 'type': 'string'}\n",
    "            }\n",
    "        }\n",
    "    },\n",
    "     'way_openhours': {\n",
    "        'type': 'list',\n",
    "        'schema': {\n",
    "            'type': 'dict',\n",
    "            'schema': {\n",
    "                'id': {'required': True, 'type': 'integer', 'coerce': int},\n",
    "                'hour': {'required': True, 'type': 'string'},\n",
    "                'section':{'required': True, 'type': 'string'}\n",
    "            }\n",
    "        }\n",
    "    },\n",
    "    \n",
    "}\n",
    "\n",
    "\n"
   ]
  },
  {
   "cell_type": "markdown",
   "metadata": {},
   "source": [
    "#### dataframe for tables"
   ]
  },
  {
   "cell_type": "code",
   "execution_count": 6,
   "metadata": {
    "collapsed": false
   },
   "outputs": [],
   "source": [
    "NODES_PATH = \"nodes.csv\"\n",
    "NODE_TAGS_PATH = \"nodes_tags.csv\"\n",
    "WAYS_PATH = \"ways.csv\"\n",
    "WAY_NODES_PATH = \"ways_nodes.csv\"\n",
    "WAY_TAGS_PATH = \"ways_tags.csv\"\n",
    "NODE_TAGS_OPENING=\"node_opening_hours.csv\"\n",
    "WAY_TAGS_OPENING='way_opening_hours.csv'\n",
    "\n",
    "LOWER_COLON = re.compile(r'^([a-z]|_)+:([a-z]|_)+')\n",
    "PROBLEMCHARS = re.compile(r'[=\\+/&<>;\\'\"\\?%#$@\\,\\. \\t\\r\\n]')\n",
    "\n",
    "SCHEMA = schema\n",
    "\n",
    "# Make sure the fields order in the csvs matches the column order in the sql table schema\n",
    "NODE_FIELDS = ['id', 'lat', 'lon', 'user', 'uid', 'version', 'changeset', 'timestamp']\n",
    "NODE_TAGS_FIELDS = ['id', 'key', 'value', 'type']\n",
    "WAY_FIELDS = ['id', 'user', 'uid', 'version', 'changeset', 'timestamp']\n",
    "WAY_TAGS_FIELDS = ['id', 'key', 'value', 'type']\n",
    "WAY_NODES_FIELDS = ['id', 'node_id', 'position']\n",
    "NODE_TAGS_OPENING_FIELDS=['id','hour','section']\n",
    "WAY_TAGS_OPENING_FIELDS=['id','hour','section']"
   ]
  },
  {
   "cell_type": "markdown",
   "metadata": {},
   "source": [
    "#### helper functions"
   ]
  },
  {
   "cell_type": "code",
   "execution_count": 7,
   "metadata": {
    "collapsed": true
   },
   "outputs": [],
   "source": [
    "# ================================================== #\n",
    "#               Helper Functions                     #\n",
    "# ================================================== #\n",
    "def get_element(osm_file, tags=('node', 'way', 'relation')):\n",
    "    \"\"\"Yield element if it is the right type of tag\"\"\"\n",
    "\n",
    "    context = ET.iterparse(osm_file, events=('start', 'end'))\n",
    "    _, root = next(context)\n",
    "    for event, elem in context:\n",
    "        if event == 'end' and elem.tag in tags:\n",
    "            yield elem\n",
    "            root.clear()\n",
    "\n",
    "\n",
    "def validate_element(element, validator, schema=SCHEMA):\n",
    "    \"\"\"Raise ValidationError if element does not match schema\"\"\"\n",
    "    if validator.validate(element, schema) is not True:\n",
    "        field, errors = next(validator.errors.iteritems())\n",
    "        message_string = \"\\nElement of type '{0}' has the following errors:\\n{1}\"\n",
    "        error_string = pprint.pformat(errors)\n",
    "        \n",
    "        raise Exception(message_string.format(field, error_string))\n",
    "\n",
    "\n",
    "class UnicodeDictWriter(csv.DictWriter, object):\n",
    "    \"\"\"Extend csv.DictWriter to handle Unicode input\"\"\"\n",
    "\n",
    "    def writerow(self, row):\n",
    "        super(UnicodeDictWriter, self).writerow({\n",
    "            k: (v.encode('utf-8') if isinstance(v, unicode) else v) for k, v in row.iteritems()\n",
    "        })\n",
    "\n",
    "    def writerows(self, rows):\n",
    "        for row in rows:\n",
    "            self.writerow(row)\n"
   ]
  },
  {
   "cell_type": "markdown",
   "metadata": {},
   "source": [
    "#### update functions for states and streets"
   ]
  },
  {
   "cell_type": "code",
   "execution_count": 8,
   "metadata": {
    "collapsed": false
   },
   "outputs": [],
   "source": [
    "#### update the state name\n",
    "mapping_states={'Virginia':'VA', 'va':'VA', 'dc':'DC'}\n",
    "correct_ones=['VA','DC','MD']\n",
    "def update_states_name(name):\n",
    "    if name not in correct_ones:\n",
    "        name=mapping_states[name]\n",
    "            ##replacedString = re.sub(pattern, replacement_pattern, input_str, count, flags=0)\n",
    "    return name\n",
    "##### update the street name\n",
    "expected_street_end=[\"Street\", \"Avenue\", \"Boulevard\", \"Drive\", \"Court\", \"Place\", \"Square\", \"Lane\", \"Road\", \n",
    "            \"Trail\", \"Parkway\", \"Commons\",'Northwest','Southeast','Northeast','Southwest','South','North','East','West',\n",
    "            'Circle','Way','Highway','Pike','Plaza','Hill','Mews']\n",
    "\n",
    "\n",
    "mapping_street={\n",
    "             'Hwy': 'Highway',\n",
    "             'Ln': 'Lane',\n",
    "             'NE': 'Northeast',\n",
    "             'NW': 'Northwest',\n",
    "             'SE': 'Southeast',\n",
    "             'SW': 'Southwest',\n",
    "             'St': 'Street',\n",
    "             'Ave': 'Avenue'}\n",
    "def update_street_name(name):\n",
    "    m = street_type_re.search(name)\n",
    "    if m:\n",
    "        street_type = m.group()\n",
    "        if street_type not in expected_street_end:\n",
    "            if street_type in mapping_street.keys():\n",
    "                name = re.sub(street_type_re, mapping_street[street_type], name)\n",
    "            ##replacedString = re.sub(pattern, replacement_pattern, input_str, count, flags=0)\n",
    "    return name"
   ]
  },
  {
   "cell_type": "markdown",
   "metadata": {},
   "source": [
    "#### shape element function"
   ]
  },
  {
   "cell_type": "code",
   "execution_count": 9,
   "metadata": {
    "collapsed": true
   },
   "outputs": [],
   "source": [
    "def shape_element(element, node_attr_fields=NODE_FIELDS, way_attr_fields=WAY_FIELDS,\n",
    "                  problem_chars=PROBLEMCHARS, default_tag_type='regular'):\n",
    "    \"\"\"Clean and shape node or way XML element to Python dict\"\"\"\n",
    "\n",
    "    node_attribs = {}\n",
    "    way_attribs = {}\n",
    "    way_nodes = []\n",
    "    tags = []  # Handle secondary tags the same way for both node and way elements\n",
    "    opening_hours=[]\n",
    "\n",
    "    # YOUR CODE HERE\n",
    "    if element.tag=='node' :\n",
    "        for node in NODE_FIELDS:\n",
    "            node_attribs[node] = element.attrib[node]   \n",
    "        for child in element:\n",
    "            if child.tag==\"tag\":\n",
    "                \n",
    "                tag = {}\n",
    "                #print node_attribs['id']\n",
    "                tag['id'] = node_attribs['id']\n",
    "                tag['value'] = child.attrib['v']\n",
    "    \n",
    "                problem = PROBLEMCHARS.search(child.attrib['k'])\n",
    "                match = LOWER_COLON.search(child.attrib['k'])\n",
    "                if child.attrib['k']=='opening_hours':\n",
    "                    opening={}\n",
    "                    value_total=child.attrib['v']\n",
    "                    for i,value_hour in enumerate(value_total.split(\";\")):\n",
    "                        opening['id']=node_attribs['id']\n",
    "                        opening['section']=str(i)\n",
    "                        opening['hour']=value_hour\n",
    "                    opening_hours.append(opening)\n",
    "                elif problem:\n",
    "                    p=problem.group()\n",
    "                    #print child.attrib['k']\n",
    "                    tag_key = p\n",
    "                    tag['key'] = tag_key\n",
    "                    tag['type'] = 'problematic'\n",
    "                    if tag:\n",
    "                        tags.append(tag)\n",
    "                        continue\n",
    "                elif match:\n",
    "                    m = match.group()\n",
    "                    #print(m)\n",
    "                    tag_type = m.split(':')[1]\n",
    "                    tag_key = m.split(':')[0]\n",
    "                    tag['key'] = tag_key\n",
    "                    tag['type'] = tag_type\n",
    "                    if tag_key=='state':\n",
    "                        tag['value'] = update_states_name(child.attrib['v'])\n",
    "                    elif tag_key=='street':\n",
    "                        tag['value'] = update_states_name(child.attrib['v'])\n",
    "                    tags.append(tag)\n",
    "                else:\n",
    "                    tag['key'] = child.attrib['k']\n",
    "                    tag['type'] = 'other_regular'\n",
    "                    if tag:\n",
    "                        tags.append(tag)\n",
    "                     \n",
    "    # if element.tag == 'node':\n",
    "        return {'node': node_attribs, 'node_tags': tags,'node_openhours':opening_hours}\n",
    "    elif element.tag=='way' :\n",
    "        i=0\n",
    "        for way in WAY_FIELDS:\n",
    "            way_attribs[way] = element.attrib[way]   \n",
    "        for child in element:\n",
    "\n",
    "            if child.tag==\"tag\":\n",
    "                \n",
    "                tag = {}\n",
    "                #print way_attribs['id']\n",
    "                tag['id'] = way_attribs['id']\n",
    "                #tag['id'] = node_attribs['id']\n",
    "                tag['value'] = child.attrib['v']\n",
    "    \n",
    "                problem = PROBLEMCHARS.search(child.attrib['k'])\n",
    "                match = LOWER_COLON.search(child.attrib['k'])\n",
    "                if child.attrib['k']=='opening_hours':\n",
    "                    opening={}\n",
    "                    value_total=child.attrib['v']\n",
    "                    for i,value_hour in enumerate(value_total.split(\";\")):\n",
    "                        opening['id']=way_attribs['id']\n",
    "                        opening['section']=str(i)\n",
    "                        opening['hour']=value_hour\n",
    "                    opening_hours.append(opening)\n",
    "                elif problem:\n",
    "                    p=problem.group()\n",
    "                    #print child.attrib['k']\n",
    "                    tag_key = p\n",
    "                    tag['key'] = tag_key\n",
    "                    tag['type'] = 'problematic'\n",
    "                    if tag:\n",
    "                        tags.append(tag)\n",
    "                        continue\n",
    "                elif match:\n",
    "                    m = match.group()\n",
    "                    #print(m)\n",
    "                    tag_type = m.split(':')[1]\n",
    "                    tag_key = m.split(':')[0]\n",
    "                    tag['key'] = tag_key\n",
    "                    tag['type'] = tag_type\n",
    "                    if tag_key=='state':\n",
    "                        tag['value'] = update_states_name(child.attrib['v'])\n",
    "                    elif tag_key=='street':\n",
    "                         tag['value'] = update_states_name(child.attrib['v'])\n",
    "                    \n",
    "                    tags.append(tag)\n",
    "                else:\n",
    "                    tag['key'] = child.attrib['k']\n",
    "                    tag['type'] = 'other_regular'\n",
    "                    if tag:\n",
    "                        tags.append(tag)\n",
    "                     \n",
    "                      \n",
    "            elif child.tag=='nd':\n",
    "                no={}\n",
    "                no['id']=way_attribs['id']\n",
    "                no['node_id']=child.attrib['ref']\n",
    "                no['position']=i\n",
    "                i+=1\n",
    "                way_nodes.append(no)\n",
    "        return {'way': way_attribs, 'way_nodes': way_nodes, 'way_tags': tags,'way_openhours':opening_hours}\n"
   ]
  },
  {
   "cell_type": "markdown",
   "metadata": {},
   "source": [
    "#### main function"
   ]
  },
  {
   "cell_type": "code",
   "execution_count": 10,
   "metadata": {
    "collapsed": false
   },
   "outputs": [],
   "source": [
    "# ================================================== #\n",
    "#               Main Function                        #\n",
    "# ================================================== #\n",
    "def process_map(file_in, validate):\n",
    "    \"\"\"Iteratively process each XML element and write to csv(s)\"\"\"\n",
    "\n",
    "    with codecs.open(NODES_PATH, 'w') as nodes_file, \\\n",
    "         codecs.open(NODE_TAGS_PATH, 'w') as nodes_tags_file, \\\n",
    "         codecs.open(WAYS_PATH, 'w') as ways_file, \\\n",
    "         codecs.open(WAY_NODES_PATH, 'w') as way_nodes_file, \\\n",
    "         codecs.open(WAY_TAGS_OPENING,'w')as way_opening_file, \\\n",
    "         codecs.open(NODE_TAGS_OPENING,'w')as node_opening_file, \\\n",
    "         codecs.open(WAY_TAGS_PATH, 'w') as way_tags_file:\n",
    "\n",
    "        nodes_writer = UnicodeDictWriter(nodes_file, NODE_FIELDS)\n",
    "        node_tags_writer = UnicodeDictWriter(nodes_tags_file, NODE_TAGS_FIELDS)\n",
    "        ways_writer = UnicodeDictWriter(ways_file, WAY_FIELDS)\n",
    "        way_nodes_writer = UnicodeDictWriter(way_nodes_file, WAY_NODES_FIELDS)\n",
    "        way_tags_writer = UnicodeDictWriter(way_tags_file, WAY_TAGS_FIELDS)\n",
    "        node_tag_hour_writer=UnicodeDictWriter(node_opening_file, NODE_TAGS_OPENING_FIELDS)\n",
    "        way_tag_hour_writer=UnicodeDictWriter(way_opening_file, WAY_TAGS_OPENING_FIELDS)\n",
    "\n",
    "        nodes_writer.writeheader()\n",
    "        node_tags_writer.writeheader()\n",
    "        ways_writer.writeheader()\n",
    "        way_nodes_writer.writeheader()\n",
    "        way_tags_writer.writeheader()\n",
    "        node_tag_hour_writer.writeheader()\n",
    "        way_tag_hour_writer.writeheader()\n",
    "\n",
    "        validator = cerberus.Validator()\n",
    "\n",
    "        for element in get_element(file_in, tags=('node', 'way')):\n",
    "            el = shape_element(element)\n",
    "            #print el\n",
    "            if el:\n",
    "                if validate is True:\n",
    "                    validate_element(el, validator)\n",
    "\n",
    "                if element.tag == 'node':\n",
    "                    nodes_writer.writerow(el['node'])\n",
    "                    node_tags_writer.writerows(el['node_tags'])\n",
    "                    node_tag_hour_writer.writerows(el['node_openhours'])\n",
    "                elif element.tag == 'way':\n",
    "                    ways_writer.writerow(el['way'])\n",
    "                    way_nodes_writer.writerows(el['way_nodes'])\n",
    "                    way_tags_writer.writerows(el['way_tags'])\n",
    "                    way_tag_hour_writer.writerows(el['way_openhours'])\n",
    "                    #print len(el['way_nodes']),len(el['way_tags'])"
   ]
  },
  {
   "cell_type": "code",
   "execution_count": 11,
   "metadata": {
    "collapsed": false
   },
   "outputs": [],
   "source": [
    "if __name__ == '__main__':\n",
    "    # Note: Validation is ~ 10X slower. For the project consider using a small\n",
    "    # sample of the map when validating.\n",
    "    process_map(OSM_PATH, validate=True)\n"
   ]
  },
  {
   "cell_type": "code",
   "execution_count": null,
   "metadata": {
    "collapsed": true
   },
   "outputs": [],
   "source": []
  }
 ],
 "metadata": {
  "kernelspec": {
   "display_name": "Python 2",
   "language": "python",
   "name": "python2"
  },
  "language_info": {
   "codemirror_mode": {
    "name": "ipython",
    "version": 2
   },
   "file_extension": ".py",
   "mimetype": "text/x-python",
   "name": "python",
   "nbconvert_exporter": "python",
   "pygments_lexer": "ipython2",
   "version": "2.7.13"
  }
 },
 "nbformat": 4,
 "nbformat_minor": 2
}

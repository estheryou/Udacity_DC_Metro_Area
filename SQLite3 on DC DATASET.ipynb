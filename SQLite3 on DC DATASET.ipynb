{
 "cells": [
  {
   "cell_type": "markdown",
   "metadata": {},
   "source": [
    "### import the module needed"
   ]
  },
  {
   "cell_type": "code",
   "execution_count": 12,
   "metadata": {
    "collapsed": false
   },
   "outputs": [],
   "source": [
    "import sqlite3\n",
    "import re\n",
    "import csv\n"
   ]
  },
  {
   "cell_type": "markdown",
   "metadata": {},
   "source": [
    "### helper functions"
   ]
  },
  {
   "cell_type": "code",
   "execution_count": 13,
   "metadata": {
    "collapsed": false
   },
   "outputs": [],
   "source": [
    "def create_table(conn, create_table_sql):\n",
    "    \"\"\" create a table from the create_table_sql statement\n",
    "    :param conn: Connection object\n",
    "    :param create_table_sql: a CREATE TABLE statement\n",
    "    :return:\n",
    "    \"\"\"\n",
    "    try:\n",
    "        c = conn.cursor()\n",
    "        c.execute(create_table_sql)\n",
    "    except  sqlite3.Error as e:\n",
    "        print(e)\n",
    "        \n",
    "\n",
    "def UnicodeDictReader(utf8_data, **kwargs):\n",
    "    csv_reader = csv.DictReader(utf8_data, **kwargs)\n",
    "    for row in csv_reader:\n",
    "        yield {key: unicode(value, 'utf-8') for key, value in row.iteritems()}"
   ]
  },
  {
   "cell_type": "markdown",
   "metadata": {},
   "source": [
    "## create a database for DC"
   ]
  },
  {
   "cell_type": "code",
   "execution_count": 14,
   "metadata": {
    "collapsed": false
   },
   "outputs": [],
   "source": [
    "created_db = sqlite3.connect(\"DC.db\")"
   ]
  },
  {
   "cell_type": "markdown",
   "metadata": {},
   "source": [
    "### database schema"
   ]
  },
  {
   "cell_type": "code",
   "execution_count": 15,
   "metadata": {
    "collapsed": false
   },
   "outputs": [],
   "source": [
    "schema_nodes= \"\"\"\n",
    "CREATE TABLE nodes (\n",
    "    id INTEGER PRIMARY KEY NOT NULL,\n",
    "    lat REAL,\n",
    "    lon REAL,\n",
    "    user TEXT,\n",
    "    uid INTEGER,\n",
    "    version INTEGER,\n",
    "    changeset INTEGER,\n",
    "    timestamp TEXT\n",
    ");\"\"\"\n",
    "\n",
    "schema_node_tags=\"\"\"\n",
    "CREATE TABLE nodes_tags (\n",
    "    id INTEGER,\n",
    "    key TEXT,\n",
    "    value TEXT,\n",
    "    type TEXT,\n",
    "    FOREIGN KEY (id) REFERENCES nodes(id)\n",
    ");\"\"\"\n",
    "schema_ways=\"\"\"\n",
    "CREATE TABLE ways (\n",
    "    id INTEGER PRIMARY KEY NOT NULL,\n",
    "    user TEXT,\n",
    "    uid INTEGER,\n",
    "    version TEXT,\n",
    "    changeset INTEGER,\n",
    "    timestamp TEXT\n",
    ");\"\"\"\n",
    "schema_way_tags=\"\"\"\n",
    "\n",
    "CREATE TABLE ways_tags (\n",
    "    id INTEGER NOT NULL,\n",
    "    key TEXT NOT NULL,\n",
    "    value TEXT NOT NULL,\n",
    "    type TEXT,\n",
    "    FOREIGN KEY (id) REFERENCES ways(id)\n",
    ");\"\"\"\n",
    "schema_way_nodes=\"\"\"\n",
    "CREATE TABLE ways_nodes (\n",
    "    id INTEGER NOT NULL,\n",
    "    node_id INTEGER NOT NULL,\n",
    "    position INTEGER NOT NULL,\n",
    "    FOREIGN KEY (id) REFERENCES ways(id),\n",
    "    FOREIGN KEY (node_id) REFERENCES nodes(id)\n",
    ");\"\"\"\n",
    "schema_node_opening_hours=\"\"\"\n",
    "CREATE TABLE node_opening_hours (\n",
    "    id INTEGER NOT NULL,\n",
    "    hour TEXT,\n",
    "    section INTEGER ,\n",
    "    FOREIGN KEY (id) REFERENCES node_tags(id)\n",
    ");\"\"\"\n",
    "schema_way_opening_hours=\"\"\"\n",
    "CREATE TABLE way_opening_hours (\n",
    "    id INTEGER NOT NULL,\n",
    "    hour TEXT,\n",
    "    section INTEGER ,\n",
    "    FOREIGN KEY (id) REFERENCES way_tags(id)\n",
    ");\n",
    "\"\"\""
   ]
  },
  {
   "cell_type": "code",
   "execution_count": 16,
   "metadata": {
    "collapsed": false
   },
   "outputs": [],
   "source": [
    "## list of schemas\n",
    "schema=[schema_nodes,schema_node_tags,schema_node_opening_hours,schema_ways,schema_way_nodes,schema_way_tags,schema_way_opening_hours]\n"
   ]
  },
  {
   "cell_type": "markdown",
   "metadata": {},
   "source": [
    "### drop existing tables"
   ]
  },
  {
   "cell_type": "code",
   "execution_count": 21,
   "metadata": {
    "collapsed": true
   },
   "outputs": [],
   "source": [
    "##drop all tables\n",
    "drop_nodes='DROP TABLE nodes;'\n",
    "drop_nodes_tags='DROP TABLE nodes_tags;'\n",
    "drop_nodes_opening_hours='DROP TABLE node_opening_hours;'\n",
    "drop_ways='DROP TABLE ways;'\n",
    "drop_ways_nodes='DROP TABLE ways_nodes;'\n",
    "drop_ways_tags='DROP TABLE ways_tags;'\n",
    "drop_ways_opening_hours='DROP TABLE way_opening_hours;'\n",
    "##as a list\n",
    "drop=[drop_nodes,drop_nodes_tags,drop_nodes_opening_hours,\n",
    "      drop_ways,drop_ways_nodes,drop_ways_tags,drop_ways_opening_hours]\n",
    "for value in drop:\n",
    "    create_table(created_db,value)"
   ]
  },
  {
   "cell_type": "markdown",
   "metadata": {},
   "source": [
    "### create empty table"
   ]
  },
  {
   "cell_type": "code",
   "execution_count": 22,
   "metadata": {
    "collapsed": false
   },
   "outputs": [],
   "source": [
    "## call the function\n",
    "for value in schema:\n",
    "    create_table(created_db,value)\n",
    "\n",
    "##commit the creation\n",
    "created_db.commit()"
   ]
  },
  {
   "cell_type": "code",
   "execution_count": 23,
   "metadata": {
    "collapsed": true
   },
   "outputs": [],
   "source": [
    "##cursor\n",
    "cursor=created_db.cursor()"
   ]
  },
  {
   "cell_type": "code",
   "execution_count": 24,
   "metadata": {
    "collapsed": false
   },
   "outputs": [
    {
     "data": {
      "text/plain": [
       "[(u'nodes',),\n",
       " (u'nodes_tags',),\n",
       " (u'node_opening_hours',),\n",
       " (u'ways',),\n",
       " (u'ways_nodes',),\n",
       " (u'ways_tags',),\n",
       " (u'way_opening_hours',)]"
      ]
     },
     "execution_count": 24,
     "metadata": {},
     "output_type": "execute_result"
    }
   ],
   "source": [
    "cursor.execute(\"SELECT name FROM sqlite_master WHERE type='table';\")\n",
    "cursor.fetchall()"
   ]
  },
  {
   "cell_type": "markdown",
   "metadata": {},
   "source": [
    "###  import csv file into table"
   ]
  },
  {
   "cell_type": "markdown",
   "metadata": {},
   "source": [
    "#####  table nodes"
   ]
  },
  {
   "cell_type": "code",
   "execution_count": 25,
   "metadata": {
    "collapsed": false
   },
   "outputs": [],
   "source": [
    "with open('nodes.csv','rb') as fin:\n",
    "    dr = csv.DictReader(fin) # comma is default delimiter\n",
    "    to_db = [(i['id'].decode('utf-8'), i['lat'].decode('utf-8'),i['lon'].decode('utf-8'),i['user'].decode('utf-8'),i['uid'].decode('utf-8'),i['version'].decode('utf-8'),i['changeset'].decode('utf-8'),i['timestamp'].decode('utf-8')) for i in dr]\n",
    "\n",
    "\n",
    "cursor.executemany(\"INSERT INTO nodes(id, lat, lon, user, uid, version, changeset, timestamp) VALUES (?, ?, ?, ?, ?, ?, ?, ?);\", to_db)\n",
    "created_db.commit()\n"
   ]
  },
  {
   "cell_type": "markdown",
   "metadata": {},
   "source": [
    "#####  table nodes_tags"
   ]
  },
  {
   "cell_type": "code",
   "execution_count": 26,
   "metadata": {
    "collapsed": false
   },
   "outputs": [],
   "source": [
    "with open('nodes_tags.csv','rb') as fin:\n",
    "    dr = csv.DictReader(fin) # comma is default delimiter\n",
    "    to_db_node_tags = [(i['id'].decode('utf-8'), i['key'].decode('utf-8'),i['value'].decode('utf-8'),i['type'].decode('utf-8')) for i in dr]\n",
    "\n",
    "cursor.executemany(\"INSERT INTO nodes_tags (id, key, value, type) VALUES (?, ?, ?, ?);\", to_db_node_tags)\n",
    "created_db.commit()"
   ]
  },
  {
   "cell_type": "markdown",
   "metadata": {},
   "source": [
    "##### table node opening hours"
   ]
  },
  {
   "cell_type": "code",
   "execution_count": 27,
   "metadata": {
    "collapsed": true
   },
   "outputs": [],
   "source": [
    "with open('node_opening_hours.csv','rb') as fin:\n",
    "    dr = csv.DictReader(fin) # comma is default delimiter\n",
    "    to_db_node_opening_hours= [(i['id'].decode('utf-8'), i['hour'].decode('utf-8'),i['section'].decode('utf-8')) for i in dr]\n",
    "\n",
    "cursor.executemany(\"INSERT INTO node_opening_hours (id, hour, section) VALUES (?, ?, ?);\", to_db_node_opening_hours)\n",
    "created_db.commit()"
   ]
  },
  {
   "cell_type": "markdown",
   "metadata": {},
   "source": [
    "#####  table ways"
   ]
  },
  {
   "cell_type": "code",
   "execution_count": 28,
   "metadata": {
    "collapsed": false
   },
   "outputs": [],
   "source": [
    "with open('ways.csv','rb')as fin:\n",
    "    dr=csv.DictReader(fin)#id,user,uid,version,changeset,timestamp\n",
    "    to_db_way=[(i['id'].decode('utf-8'),i['user'].decode('utf-8'),i['uid'].decode('utf-8'),i['version'].decode('utf-8'),i['changeset'].decode('utf-8'),i['timestamp'].decode('utf-8'))for i in dr]\n",
    "    \n",
    "    cursor.executemany(\"INSERT INTO ways (id,user,uid,version,changeset,timestamp) VALUES (?, ?, ?,?,?,?);\", to_db_way)\n",
    "created_db.commit()"
   ]
  },
  {
   "cell_type": "markdown",
   "metadata": {},
   "source": [
    "##### table ways nodes"
   ]
  },
  {
   "cell_type": "code",
   "execution_count": 29,
   "metadata": {
    "collapsed": true
   },
   "outputs": [],
   "source": [
    "with open('ways_nodes.csv','rb')as fin:\n",
    "    dr=csv.DictReader(fin)#id,node_id,position\n",
    "    to_db_way_nodes=[(i['id'].decode('utf-8'),i['node_id'].decode('utf-8'),i['position'].decode('utf-8'))for i in dr]\n",
    "    \n",
    "    cursor.executemany(\"INSERT INTO ways_nodes (id,node_id,position) VALUES (?, ?, ?);\", to_db_way_nodes)\n",
    "created_db.commit()"
   ]
  },
  {
   "cell_type": "markdown",
   "metadata": {},
   "source": [
    "###### table ways tags"
   ]
  },
  {
   "cell_type": "code",
   "execution_count": 30,
   "metadata": {
    "collapsed": true
   },
   "outputs": [],
   "source": [
    "with open('ways_tags.csv','rb')as fin:\n",
    "    dr=csv.DictReader(fin)#id,key,value,type\n",
    "    to_db_way_tags=[(i['id'].decode('utf-8'),i['key'].decode('utf-8'),i['value'].decode('utf-8'),i['type'].decode('utf-8'))for i in dr]\n",
    "    \n",
    "cursor.executemany(\"INSERT INTO ways_tags (id,key,value,type) VALUES (?, ?, ?,?);\", to_db_way_tags)\n",
    "created_db.commit()"
   ]
  },
  {
   "cell_type": "markdown",
   "metadata": {},
   "source": [
    "##### table way opening hours"
   ]
  },
  {
   "cell_type": "code",
   "execution_count": 31,
   "metadata": {
    "collapsed": true
   },
   "outputs": [],
   "source": [
    "with open('way_opening_hours.csv','rb') as fin:\n",
    "    dr = csv.DictReader(fin) # id,hour,section\n",
    "    to_db_way_opening_hours= [(i['id'].decode('utf-8'), i['hour'].decode('utf-8'),i['section'].decode('utf-8')) for i in dr]\n",
    "\n",
    "cursor.executemany(\"INSERT INTO way_opening_hours (id, hour, section) VALUES (?, ?, ?);\", to_db_way_opening_hours)\n",
    "created_db.commit()"
   ]
  },
  {
   "cell_type": "markdown",
   "metadata": {
    "collapsed": true
   },
   "source": [
    "### conduct queries"
   ]
  },
  {
   "cell_type": "code",
   "execution_count": 35,
   "metadata": {
    "collapsed": false
   },
   "outputs": [
    {
     "name": "stdout",
     "output_type": "stream",
     "text": [
      "[(1441,)]\n"
     ]
    }
   ],
   "source": [
    "#cursor\n",
    "#find the number of restraunts and group them by value for all\n",
    "query_restraunt ='''select count(distinct id) as number_of_restraunt from \n",
    "                  (select id,key,value from nodes_tags union select id,key,value from ways_tags) where key=\"cuisine\" ; \n",
    "                 '''\n",
    "cursor.execute(query_restraunt)\n",
    "result_restraunt=cursor.fetchall()\n",
    "print result_restraunt"
   ]
  },
  {
   "cell_type": "markdown",
   "metadata": {},
   "source": [
    "### categories for keys"
   ]
  },
  {
   "cell_type": "code",
   "execution_count": 48,
   "metadata": {
    "collapsed": false
   },
   "outputs": [
    {
     "data": {
      "text/plain": [
       "400"
      ]
     },
     "execution_count": 48,
     "metadata": {},
     "output_type": "execute_result"
    }
   ],
   "source": [
    "#find all the categories\n",
    "query_key='''\n",
    "          select distinct key from ways_tags  ;\n",
    "          '''\n",
    "cursor.execute(query_key)\n",
    "result_key=cursor.fetchall()\n",
    "len(result_key)"
   ]
  },
  {
   "cell_type": "markdown",
   "metadata": {},
   "source": [
    "### take a look at zipcode"
   ]
  },
  {
   "cell_type": "code",
   "execution_count": 55,
   "metadata": {
    "collapsed": false
   },
   "outputs": [
    {
     "data": {
      "text/plain": [
       "[(u'postal_code', u'20744', 8),\n",
       " (u'postal_code', u'20740', 3),\n",
       " (u'postal_code', u'22207', 3),\n",
       " (u'postal_code', u'20745', 2),\n",
       " (u'postal_code', u'22201', 2),\n",
       " (u'postal_code', u'20005', 1),\n",
       " (u'postal_code', u'20009', 1),\n",
       " (u'postal_code', u'20735', 1),\n",
       " (u'postal_code', u'20770', 1),\n",
       " (u'postal_code', u'22202', 1),\n",
       " (u'postal_code', u'22204', 1),\n",
       " (u'postal_code', u'22206', 1),\n",
       " (u'postal_code', u'22209', 1)]"
      ]
     },
     "execution_count": 55,
     "metadata": {},
     "output_type": "execute_result"
    }
   ],
   "source": [
    "query_postcode='''\n",
    "                SELECT tags.key,tags.value, COUNT(*) as count \n",
    "                FROM (SELECT * FROM nodes_tags  UNION ALL \n",
    "                      SELECT * FROM ways_tags) tags\n",
    "                WHERE tags.key = 'postal_code'\n",
    "                GROUP BY tags.value\n",
    "                ORDER BY count DESC;\n",
    "               '''\n",
    "cursor.execute(query_postcode)\n",
    "result_postcode=cursor.fetchall()\n",
    "result_postcode"
   ]
  },
  {
   "cell_type": "markdown",
   "metadata": {},
   "source": [
    "### count the number of cuisines in DC area"
   ]
  },
  {
   "cell_type": "code",
   "execution_count": 96,
   "metadata": {
    "collapsed": false
   },
   "outputs": [
    {
     "data": {
      "text/plain": [
       "[(u'pizza', 122, 8.47),\n",
       " (u'american', 118, 8.19),\n",
       " (u'sandwich', 111, 7.7),\n",
       " (u'burger', 110, 7.63),\n",
       " (u'coffee_shop', 96, 6.66),\n",
       " (u'mexican', 95, 6.59),\n",
       " (u'italian', 73, 5.07),\n",
       " (u'chinese', 70, 4.86),\n",
       " (u'thai', 57, 3.96),\n",
       " (u'indian', 35, 2.43)]"
      ]
     },
     "execution_count": 96,
     "metadata": {},
     "output_type": "execute_result"
    }
   ],
   "source": [
    "query_cuisine='''\n",
    "                SELECT tags.value, COUNT(id) as count ,\n",
    "                \n",
    "                round((count(*)*100.0/(SELECT COUNT(*) FROM (\n",
    "                    SELECT * FROM nodes_tags  UNION ALL \n",
    "                      SELECT * FROM ways_tags) t\n",
    "                      WHERE t.key = 'cuisine'\n",
    "                      ) ),2)\n",
    "                      \n",
    "                AS percetange\n",
    "                      \n",
    "                FROM (SELECT * FROM nodes_tags  UNION ALL \n",
    "                      SELECT * FROM ways_tags) tags\n",
    "                WHERE tags.key = 'cuisine'\n",
    "                GROUP BY tags.value\n",
    "                ORDER BY count DESC\n",
    "                limit 10;\n",
    "               '''\n",
    "cursor.execute(query_cuisine)\n",
    "result_cuisine=cursor.fetchall()\n",
    "result_cuisine\n",
    "\n",
    "#ELECT a.name, a.gdppc, SUM(b.gdppc)\n",
    "#FROM gdppc AS a, gdppc AS b WHERE b.gdppc <= a.gdppc "
   ]
  },
  {
   "cell_type": "markdown",
   "metadata": {},
   "source": [
    "### number of restruants "
   ]
  },
  {
   "cell_type": "code",
   "execution_count": 83,
   "metadata": {
    "collapsed": false
   },
   "outputs": [
    {
     "data": {
      "text/plain": [
       "[(1441,)]"
      ]
     },
     "execution_count": 83,
     "metadata": {},
     "output_type": "execute_result"
    }
   ],
   "source": [
    "query_cuisine_number='''\n",
    "                SELECT count(*)\n",
    "                      \n",
    "                FROM (SELECT * FROM nodes_tags  UNION ALL \n",
    "                      SELECT * FROM ways_tags) tags\n",
    "                WHERE tags.key = 'cuisine';\n",
    "               '''\n",
    "cursor.execute(query_cuisine_number)\n",
    "result_cuisine_number=cursor.fetchall()\n",
    "result_cuisine_number"
   ]
  },
  {
   "cell_type": "markdown",
   "metadata": {},
   "source": [
    "### Top 10 appearing amenities"
   ]
  },
  {
   "cell_type": "code",
   "execution_count": 99,
   "metadata": {
    "collapsed": false
   },
   "outputs": [
    {
     "data": {
      "text/plain": [
       "[(u'restaurant', 1364),\n",
       " (u'place_of_worship', 811),\n",
       " (u'school', 772),\n",
       " (u'fast_food', 543),\n",
       " (u'bench', 527),\n",
       " (u'cafe', 469),\n",
       " (u'bank', 338),\n",
       " (u'bicycle_rental', 271),\n",
       " (u'drinking_water', 267),\n",
       " (u'bicycle_parking', 252)]"
      ]
     },
     "execution_count": 99,
     "metadata": {},
     "output_type": "execute_result"
    }
   ],
   "source": [
    "query_amenity='''\n",
    "               SELECT value, COUNT(distinct id) as num\n",
    "               FROM nodes_tags\n",
    "               WHERE key='amenity'\n",
    "               GROUP BY value\n",
    "               ORDER BY num DESC\n",
    "               LIMIT 10;\n",
    "               '''\n",
    "cursor.execute(query_amenity)\n",
    "result_amenity=cursor.fetchall()\n",
    "result_amenity"
   ]
  },
  {
   "cell_type": "markdown",
   "metadata": {},
   "source": [
    "#### hours that are opened "
   ]
  },
  {
   "cell_type": "code",
   "execution_count": 104,
   "metadata": {
    "collapsed": false
   },
   "outputs": [
    {
     "data": {
      "text/plain": [
       "[(u'sandwich',\n",
       "  u'Sa 8:00 - 2:00, Su 8:00 - 21:00, Mo 8:30 - 21:00, Tu-Fr: 8:30 - 20:00',\n",
       "  25),\n",
       " (u'american', u'Mo-Su 10:30-24:00', 21),\n",
       " (u'mexican', u'11:00-22:00', 17),\n",
       " (u'burger', u' Fr-Sa 10:00-03:30', 13),\n",
       " (u'pizza', u' Fr,Sa 00:00-01:00,11:00-24:00', 13),\n",
       " (u'chinese', u' su 12:00 - 20:00', 10),\n",
       " (u'italian', u'10:30 AM - 10:00 PM', 9),\n",
       " (u'thai', u' Su 12:00-15:00,16:30-21:00', 9),\n",
       " (u'coffee_shop', u' Su 07:00-22:00', 6),\n",
       " (u'mediterranean', u'su - th 11:00 - 21:00, fr-sa 11:00 - 22:00', 5)]"
      ]
     },
     "execution_count": 104,
     "metadata": {},
     "output_type": "execute_result"
    }
   ],
   "source": [
    "query_cuisine_opening='''\n",
    "               SELECT tags.value, hours.hour, COUNT(distinct tags.id) as num \n",
    "               FROM (SELECT * FROM nodes_tags  UNION ALL \n",
    "                     SELECT * FROM ways_tags) tags join\n",
    "                    (SELECT * FROM node_opening_hours  UNION ALL \n",
    "                      SELECT * FROM way_opening_hours) hours\n",
    "                      on tags.id=hours.id\n",
    "                      \n",
    "               \n",
    "               WHERE tags.key='cuisine'\n",
    "               GROUP BY tags.value\n",
    "               ORDER BY num DESC\n",
    "               LIMIT 10;\n",
    "               '''\n",
    "cursor.execute(query_cuisine_opening)\n",
    "result_cuisine_opening=cursor.fetchall()\n",
    "result_cuisine_opening\n"
   ]
  },
  {
   "cell_type": "markdown",
   "metadata": {},
   "source": [
    "#####  suppose I would like to know on saturday where Can I find a Chinese restruant open and where they are"
   ]
  },
  {
   "cell_type": "code",
   "execution_count": 129,
   "metadata": {
    "collapsed": false
   },
   "outputs": [
    {
     "data": {
      "text/plain": [
       "[(490254362, u'Mayflower'),\n",
       " (807592195, u'Great Wall Szechuan House'),\n",
       " (837122883, u'Nagomi Izakaya'),\n",
       " (3900521066, u'Eastern Carryout'),\n",
       " (296507739, u'Sammy Carry-Out'),\n",
       " (297371630, u\"George's Carry Out\"),\n",
       " (371641428, u'China House'),\n",
       " (417073480, u\"Ho's Chinese Carry Out\")]"
      ]
     },
     "execution_count": 129,
     "metadata": {},
     "output_type": "execute_result"
    }
   ],
   "source": [
    "query_cuisine_chinese_opening='''\n",
    "select tag.id,tag.value\n",
    "from \n",
    "   (SELECT * FROM nodes_tags  UNION ALL \n",
    "    SELECT * FROM ways_tags) tag\n",
    "                     \n",
    "where tag.id in (select tags.id \n",
    "    FROM (SELECT * FROM nodes_tags  UNION ALL \n",
    "          SELECT * FROM ways_tags) tags join\n",
    "         (SELECT * FROM node_opening_hours  UNION ALL \n",
    "          SELECT * FROM way_opening_hours) hours\n",
    "          on tags.id=hours.id\n",
    "    WHERE tags.key='cuisine' and tags.value='chinese'and hours.hour like\"%su%\"\n",
    "    LIMIT 10)\n",
    "    and tag.key like '%name%' \n",
    ";\n",
    "'''\n",
    "\n",
    "cursor.execute(query_cuisine_chinese_opening)\n",
    "result_cuisine_chinese_opening=cursor.fetchall()\n",
    "result_cuisine_chinese_opening\n",
    "\n"
   ]
  },
  {
   "cell_type": "code",
   "execution_count": null,
   "metadata": {
    "collapsed": true
   },
   "outputs": [],
   "source": []
  }
 ],
 "metadata": {
  "kernelspec": {
   "display_name": "Python 2",
   "language": "python",
   "name": "python2"
  },
  "language_info": {
   "codemirror_mode": {
    "name": "ipython",
    "version": 2
   },
   "file_extension": ".py",
   "mimetype": "text/x-python",
   "name": "python",
   "nbconvert_exporter": "python",
   "pygments_lexer": "ipython2",
   "version": "2.7.13"
  }
 },
 "nbformat": 4,
 "nbformat_minor": 2
}

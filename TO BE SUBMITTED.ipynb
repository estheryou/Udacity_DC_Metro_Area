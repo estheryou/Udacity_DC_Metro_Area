{
 "cells": [
  {
   "cell_type": "markdown",
   "metadata": {},
   "source": [
    "# Open Street Map Project- DC Metro Area"
   ]
  },
  {
   "cell_type": "markdown",
   "metadata": {},
   "source": [
    "### Map Area"
   ]
  },
  {
   "cell_type": "markdown",
   "metadata": {},
   "source": [
    "###### Washington DC Metro Area, United States"
   ]
  },
  {
   "cell_type": "markdown",
   "metadata": {},
   "source": [
    "![alt tags](https://c1.staticflickr.com/5/4381/36224012332_9822f411aa.jpg)\n"
   ]
  },
  {
   "cell_type": "markdown",
   "metadata": {},
   "source": [
    "This map is where I have spent over 3 years and met amazing people, so I’m more interested to see what database querying reveals.\n",
    "\n"
   ]
  },
  {
   "cell_type": "markdown",
   "metadata": {},
   "source": [
    "## Problems Encountered in the Map"
   ]
  },
  {
   "cell_type": "markdown",
   "metadata": {},
   "source": [
    "After initially downloading a OSM.XML file and then got a sample of that and running it , I noticed 2 main problems with the data, which I will discuss in the following order:\n",
    "\n",
    "- Inconsistency  state names  *(\"Virginia, dc\")*\n",
    "- Over­abbreviated street names (“'H St NE', 'Minnesota Avenue NE'”)\n",
    "\n"
   ]
  },
  {
   "cell_type": "markdown",
   "metadata": {},
   "source": [
    "### Inconsistent  State Names"
   ]
  },
  {
   "cell_type": "markdown",
   "metadata": {},
   "source": [
    "After pulling out the sample, I took a look on all the possible value for each K and spot that for 'addr:state', the value can be :\"Virginia\" \"dc\" not VA,DC,MD\n",
    "So I update the value by the following function:"
   ]
  },
  {
   "cell_type": "markdown",
   "metadata": {},
   "source": [
    "```python \n",
    "mapping_states={'Virginia':'VA', 'va':'VA', 'dc':'DC'}\n",
    "correct_ones=['VA','DC','MD']\n",
    "def update_states_name(name):\n",
    "    if name not in correct_ones:\n",
    "        name=mapping_states[name]\n",
    "    return name\n",
    "```"
   ]
  },
  {
   "cell_type": "markdown",
   "metadata": {},
   "source": [
    "### Over­abbreviated street names"
   ]
  },
  {
   "cell_type": "markdown",
   "metadata": {},
   "source": [
    "The situation here is the same with the tutorial videos, some ending of streets are abbreviated like'Ln','NE.So I updated the street names with a mapping dictionary on those that are not correct (based on the sample):"
   ]
  },
  {
   "cell_type": "markdown",
   "metadata": {},
   "source": [
    "```python \n",
    "mapping_street={\n",
    "             'Hwy': 'Highway',\n",
    "             'Ln': 'Lane',\n",
    "             'NE': 'Northeast',\n",
    "             'NW': 'Northwest',\n",
    "             'SE': 'Southeast',\n",
    "             'SW': 'Southwest',\n",
    "             'St': 'Street',\n",
    "             'Ave': 'Avenue'}\n",
    "def update_street_name(name):\n",
    "    m = street_type_re.search(name)\n",
    "    if m:\n",
    "        street_type = m.group()\n",
    "        if street_type not in expected_street_end:\n",
    "            if street_type in mapping_street.keys():\n",
    "                name = re.sub(street_type_re, mapping_street[street_type], name)\n",
    "    return name\n",
    "```"
   ]
  },
  {
   "cell_type": "markdown",
   "metadata": {},
   "source": [
    "This updated all substrings in problematic address strings, such that: “Jefferson Davis Hwy” becomes: “Jefferson Davis Highway”"
   ]
  },
  {
   "cell_type": "markdown",
   "metadata": {},
   "source": [
    "### Import csv files into a sqlite database"
   ]
  },
  {
   "cell_type": "markdown",
   "metadata": {},
   "source": [
    "e.g:table nodes"
   ]
  },
  {
   "cell_type": "markdown",
   "metadata": {},
   "source": [
    "```python\n",
    "with open('nodes.csv','rb') as fin:\n",
    "    dr = csv.DictReader(fin) # comma is default delimiter\n",
    "    to_db = [(i['id'].decode('utf-8'), i['lat'].decode('utf-8'),i['lon'].decode('utf-8'),i['user'].decode('utf-8'),i['uid'].decode('utf-8'),i['version'].decode('utf-8'),i['changeset'].decode('utf-8'),i['timestamp'].decode('utf-8')) for i in dr]\n",
    "\n",
    "\n",
    "cursor.executemany(\"INSERT INTO nodes(id, lat, lon, user, uid, version, changeset, timestamp) VALUES (?, ?, ?, ?, ?, ?, ?, ?);\", to_db)\n",
    "created_db.commit()\n",
    "```"
   ]
  },
  {
   "cell_type": "markdown",
   "metadata": {
    "collapsed": true
   },
   "source": [
    "importion for other tables follow the same practice"
   ]
  },
  {
   "cell_type": "markdown",
   "metadata": {},
   "source": [
    "### Dataset Overview"
   ]
  },
  {
   "cell_type": "markdown",
   "metadata": {},
   "source": [
    "###### Number of nodes"
   ]
  },
  {
   "cell_type": "markdown",
   "metadata": {},
   "source": [
    "```sql\n",
    "select count(*) from nodes;\n",
    "```"
   ]
  },
  {
   "cell_type": "markdown",
   "metadata": {},
   "source": [
    "2369337"
   ]
  },
  {
   "cell_type": "markdown",
   "metadata": {},
   "source": [
    "##### Number of Ways"
   ]
  },
  {
   "cell_type": "markdown",
   "metadata": {},
   "source": [
    "```sql\n",
    "select count(*) from ways;\n",
    "```"
   ]
  },
  {
   "cell_type": "markdown",
   "metadata": {},
   "source": [
    "297267"
   ]
  },
  {
   "cell_type": "markdown",
   "metadata": {},
   "source": [
    "#### Number of unique users"
   ]
  },
  {
   "cell_type": "markdown",
   "metadata": {},
   "source": [
    "```sql\n",
    "SELECT COUNT(DISTINCT(e.uid))          \n",
    "FROM (SELECT uid FROM nodes UNION ALL SELECT uid FROM ways) e;\n",
    "```"
   ]
  },
  {
   "cell_type": "markdown",
   "metadata": {},
   "source": [
    "2142"
   ]
  },
  {
   "cell_type": "markdown",
   "metadata": {},
   "source": [
    "#### Top 10 contributers"
   ]
  },
  {
   "cell_type": "markdown",
   "metadata": {},
   "source": [
    "```sql\n",
    "SELECT e.user, COUNT(*) as num\n",
    "FROM (SELECT user FROM nodes UNION ALL SELECT user FROM ways) e\n",
    "GROUP BY e.user\n",
    "ORDER BY num DESC\n",
    "LIMIT 10;\n",
    "```"
   ]
  },
  {
   "cell_type": "markdown",
   "metadata": {},
   "source": [
    "```sql\n",
    "aude|741680\n",
    "DavidYJackson_import|449254\n",
    "wonderchook|171058\n",
    "kriscarle|125532\n",
    "woodpeck_fixbot|123280\n",
    "emacsen|83850\n",
    "RoadGeek_MD99|72254\n",
    "Sawan Shariar|59815\n",
    "ingalls|52627\n",
    "sejohnson|52540\n",
    "```"
   ]
  },
  {
   "cell_type": "markdown",
   "metadata": {},
   "source": [
    "#### Top 10 appearing amenities"
   ]
  },
  {
   "cell_type": "markdown",
   "metadata": {},
   "source": [
    "```sql\n",
    "restaurant|1364\n",
    "place_of_worship|811\n",
    "school|772\n",
    "fast_food|543\n",
    "bench|527\n",
    "cafe|469\n",
    "bank|338\n",
    "bicycle_rental|271\n",
    "drinking_water|267\n",
    "bicycle_parking|252\n",
    "```"
   ]
  },
  {
   "cell_type": "markdown",
   "metadata": {},
   "source": [
    "#### Number of restraunant"
   ]
  },
  {
   "cell_type": "markdown",
   "metadata": {
    "collapsed": true
   },
   "source": [
    "```sql\n",
    "SELECT count(*)\n",
    "FROM (SELECT * FROM nodes_tags  UNION ALL \n",
    "      SELECT * FROM ways_tags) tags\n",
    "WHERE tags.key = 'cuisine';\n",
    "```"
   ]
  },
  {
   "cell_type": "markdown",
   "metadata": {},
   "source": [
    "1441"
   ]
  },
  {
   "cell_type": "markdown",
   "metadata": {},
   "source": [
    "**There seems to be no specific line between restaurant and cafe or fastfood and there might be intersection when recorded\n",
    "as \n",
    "*1441< 1364+543+469"
   ]
  },
  {
   "cell_type": "markdown",
   "metadata": {},
   "source": [
    "#### Top 10 restruants in DC Metro Area"
   ]
  },
  {
   "cell_type": "markdown",
   "metadata": {},
   "source": [
    "```sql\n",
    "SELECT tags.value, COUNT(id) as count ,\n",
    "                \n",
    "                round((count(*)*100.0/(SELECT COUNT(*) FROM (\n",
    "                    SELECT * FROM nodes_tags  UNION ALL \n",
    "                      SELECT * FROM ways_tags) t\n",
    "                      WHERE t.key = 'cuisine'\n",
    "                      ) ),2)\n",
    "                      \n",
    "                AS percetange\n",
    "                      \n",
    "                FROM (SELECT * FROM nodes_tags  UNION ALL \n",
    "                      SELECT * FROM ways_tags) tags\n",
    "                WHERE tags.key = 'cuisine'\n",
    "                GROUP BY tags.value\n",
    "                ORDER BY count DESC\n",
    "                limit 10;\n",
    "```"
   ]
  },
  {
   "cell_type": "markdown",
   "metadata": {},
   "source": [
    "```sql\n",
    "pizza|122|8.47\n",
    "american|118|8.19\n",
    "sandwich|111|7.7\n",
    "burger|110|7.63\n",
    "coffee_shop|96|6.66\n",
    "mexican|95|6.59\n",
    "italian|73|5.07\n",
    "chinese|70|4.86\n",
    "thai|57|3.96\n",
    "indian|35|2.43\n",
    "```"
   ]
  },
  {
   "cell_type": "markdown",
   "metadata": {},
   "source": [
    "##### it seems that the most popular ones are pizza shops,following American,Sandwich"
   ]
  },
  {
   "cell_type": "markdown",
   "metadata": {},
   "source": [
    "#### Most hours when the restruants are open"
   ]
  },
  {
   "cell_type": "markdown",
   "metadata": {},
   "source": [
    "although the time structure is really messy\n"
   ]
  },
  {
   "cell_type": "markdown",
   "metadata": {},
   "source": [
    "```sql\n",
    "SELECT tags.value, hours.hour, COUNT(distinct tags.id) as num \n",
    "               FROM (SELECT * FROM nodes_tags  UNION ALL \n",
    "                     SELECT * FROM ways_tags) tags join\n",
    "                    (SELECT * FROM node_opening_hours  UNION ALL \n",
    "                      SELECT * FROM way_opening_hours) hours\n",
    "                      on tags.id=hours.id\n",
    "                      \n",
    "               \n",
    "               WHERE tags.key='cuisine'\n",
    "               GROUP BY tags.value\n",
    "               ORDER BY num DESC\n",
    "               LIMIT 10;\n",
    "```"
   ]
  },
  {
   "cell_type": "markdown",
   "metadata": {},
   "source": [
    "```sql\n",
    "sandwich|Sa 8:00 - 2:00, Su 8:00 - 21:00, Mo 8:30 - 21:00, Tu-Fr: 8:30 - 20:00|25\n",
    "american|Mo-Su 10:30-24:00|21\n",
    "mexican|11:00-22:00|17\n",
    "burger| Fr-Sa 10:00-03:30|13\n",
    "pizza| Fr,Sa 00:00-01:00,11:00-24:00|13\n",
    "chinese| su 12:00 - 20:00|10\n",
    "italian|10:30 AM - 10:00 PM|9\n",
    "thai| Su 12:00-15:00,16:30-21:00|9\n",
    "coffee_shop| Su 07:00-22:00|6\n",
    "mediterranean|su - th 11:00 - 21:00, fr-sa 11:00 - 22:00|5\n",
    "```"
   ]
  },
  {
   "cell_type": "markdown",
   "metadata": {},
   "source": [
    "#####  suppose I would like to know on saturday where Can I find a Chinese restruant open and where they are"
   ]
  },
  {
   "cell_type": "markdown",
   "metadata": {},
   "source": [
    "###### names for the restraurant"
   ]
  },
  {
   "cell_type": "markdown",
   "metadata": {},
   "source": [
    "```sql\n",
    "select tag.value\n",
    "from \n",
    "   (SELECT * FROM nodes_tags  UNION ALL \n",
    "    SELECT * FROM ways_tags) tag\n",
    "                     \n",
    "where tag.id in (select tags.id \n",
    "    FROM (SELECT * FROM nodes_tags  UNION ALL \n",
    "          SELECT * FROM ways_tags) tags join\n",
    "         (SELECT * FROM node_opening_hours  UNION ALL \n",
    "          SELECT * FROM way_opening_hours) hours\n",
    "          on tags.id=hours.id\n",
    "    WHERE tags.key='cuisine' and tags.value='chinese'and hours.hour like\"%su%\"\n",
    "    LIMIT 10)\n",
    "    and tag.key like '%name%' \n",
    ";\n",
    "```"
   ]
  },
  {
   "cell_type": "markdown",
   "metadata": {},
   "source": [
    "```sql\n",
    "Mayflower\n",
    "Great Wall Szechuan House\n",
    "Nagomi Izakaya\n",
    "Eastern Carryout\n",
    "Sammy Carry-Out\n",
    "George's Carry Out\n",
    "China House\n",
    "Ho's Chinese Carry Out\n",
    "```"
   ]
  },
  {
   "cell_type": "markdown",
   "metadata": {},
   "source": [
    "###### get the address for these places"
   ]
  },
  {
   "cell_type": "markdown",
   "metadata": {},
   "source": [
    "```sql\n",
    "select tag.id,tag.value\n",
    "from \n",
    "   (SELECT * FROM nodes_tags  UNION ALL \n",
    "    SELECT * FROM ways_tags) tag\n",
    "                     \n",
    "where tag.id in (select tags.id \n",
    "    FROM (SELECT * FROM nodes_tags  UNION ALL \n",
    "          SELECT * FROM ways_tags) tags join\n",
    "         (SELECT * FROM node_opening_hours  UNION ALL \n",
    "          SELECT * FROM way_opening_hours) hours\n",
    "          on tags.id=hours.id\n",
    "    WHERE tags.key='cuisine' and tags.value='chinese'and hours.hour like\"%su%\"\n",
    "    LIMIT 10)\n",
    "    and tag.key like '%addr%' \n",
    ";\n",
    "\n",
    "```"
   ]
  },
  {
   "cell_type": "markdown",
   "metadata": {},
   "source": [
    "```sql\n",
    "490254362|Washington\n",
    "490254362|DC\n",
    "490254362|Mount Pleasant Street Northwest\n",
    "490254362|20009\n",
    "490254362|3066\n",
    "807592195|Washington\n",
    "807592195|1527\n",
    "807592195|20005\n",
    "807592195|DC\n",
    "807592195|14th Street Northwest\n",
    "837122883|M Street Northwest\n",
    "296507739|Washington\n",
    "296507739|DC\n",
    "296507739|12th Street Northeast\n",
    "296507739|US\n",
    "296507739|20017\n",
    "296507739|2801\n",
    "297371630|Washington\n",
    "297371630|DC\n",
    "297371630|Georgia Avenue Northwest\n",
    "297371630|US\n",
    "297371630|20011\n",
    "297371630|4910\n",
    "371641428|Arlington\n",
    "371641428|VA\n",
    "371641428|B\n",
    "371641428|South Shirlington Road\n",
    "371641428|22206\n",
    "371641428|2249\n",
    "417073480|Alexandria\n",
    "417073480|VA\n",
    "417073480|Centre Plaza\n",
    "417073480|US\n",
    "417073480|22302\n",
    "417073480|1707\n",
    "```"
   ]
  },
  {
   "cell_type": "markdown",
   "metadata": {},
   "source": [
    "## Conclusion\n",
    "The open street map for DC metro area is not complete since there are many restruants I knew was not on the list.\n",
    "The dataset for now will needs more data cleaning on more keys"
   ]
  },
  {
   "cell_type": "markdown",
   "metadata": {
    "collapsed": true
   },
   "source": [
    "## Additional Suggestions"
   ]
  },
  {
   "cell_type": "markdown",
   "metadata": {},
   "source": [
    "### about the contributer"
   ]
  },
  {
   "cell_type": "markdown",
   "metadata": {},
   "source": [
    "who are the major contributer?"
   ]
  },
  {
   "cell_type": "markdown",
   "metadata": {},
   "source": [
    "```sql\n",
    "SELECT e.user, COUNT(*) as num,\n",
    "                  round((count(*)*100.0/(select count(e.user) from(SELECT user FROM nodes \n",
    "                                         UNION ALL \n",
    "                                        SELECT user FROM ways ) e )\n",
    "                                           \n",
    "                       ),2)\n",
    "                      \n",
    "                  AS percetange\n",
    "                   \n",
    "                  \n",
    "                  FROM (SELECT user FROM nodes UNION ALL SELECT user FROM ways) e\n",
    "                  GROUP BY e.user\n",
    "                  ORDER BY num DESC\n",
    "                  limit 10;\n",
    "```"
   ]
  },
  {
   "cell_type": "markdown",
   "metadata": {},
   "source": [
    "```sql\n",
    "aude|741680|27.81\n",
    "DavidYJackson_import|449254|16.85\n",
    "wonderchook|171058|6.41\n",
    "kriscarle|125532|4.71\n",
    "woodpeck_fixbot|123280|4.62\n",
    "emacsen|83850|3.14\n",
    "RoadGeek_MD99|72254|2.71\n",
    "Sawan Shariar|59815|2.24\n",
    "ingalls|52627|1.97\n",
    "sejohnson|52540|1.97\n",
    "```"
   ]
  },
  {
   "cell_type": "markdown",
   "metadata": {},
   "source": [
    "we can see that the auther aude contributed over 1/4"
   ]
  },
  {
   "cell_type": "markdown",
   "metadata": {},
   "source": [
    "save this query as view for future reference"
   ]
  },
  {
   "cell_type": "markdown",
   "metadata": {},
   "source": [
    "```sql\n",
    "CREATE VIEW v_contributer\n",
    "                                  as\n",
    "                                  SELECT e.user, COUNT(*) as num,\n",
    "                  round((count(*)*100.0/(select count(e.user) from(SELECT user FROM nodes \n",
    "                                         UNION ALL \n",
    "                                        SELECT user FROM ways ) e )\n",
    "                                           \n",
    "                       ),2)\n",
    "                      \n",
    "                  AS percetange\n",
    "                   \n",
    "                  \n",
    "                  FROM (SELECT user FROM nodes UNION ALL SELECT user FROM ways) e\n",
    "                  GROUP BY e.user\n",
    "                  ORDER BY num DESC\n",
    "                  limit 10;\n",
    "```"
   ]
  },
  {
   "cell_type": "markdown",
   "metadata": {},
   "source": [
    "then let's see the possible inconsistency * here I used uncorrected street types"
   ]
  },
  {
   "cell_type": "markdown",
   "metadata": {},
   "source": [
    "```sql\n",
    "select key,value,type,e.user\n",
    "                        from  (select * from nodes_tags \n",
    "                               union all\n",
    "                               select * from ways_tags) tag \n",
    "                               join \n",
    "                               (select user,id from nodes\n",
    "                                union all\n",
    "                                select user,id from ways) e\n",
    "                                on tag.id=e.id\n",
    "                        where e.user in\n",
    "                               (select user from v_contributer limit 2\n",
    "                                 ) and tag.key like '%addr%' and tag.type like '%street%';\n",
    "```"
   ]
  },
  {
   "cell_type": "markdown",
   "metadata": {},
   "source": [
    "we can have records as such:\n",
    "\n",
    "    addr|16th Street Northeast|street|DavidYJackson_import\n",
    "    addr|Girard Street NW|street|aude\n",
    "in which case the abbreviation is not consistent for multiple users."
   ]
  },
  {
   "cell_type": "markdown",
   "metadata": {},
   "source": [
    "##### Thus, the suggestions will be once some contributer will need to contribute any information.They will need to follow the format of the first contributer for this key.\n"
   ]
  },
  {
   "cell_type": "markdown",
   "metadata": {},
   "source": [
    "###  Benefits and Concerns"
   ]
  },
  {
   "cell_type": "markdown",
   "metadata": {},
   "source": [
    "##### Benefits"
   ]
  },
  {
   "cell_type": "markdown",
   "metadata": {},
   "source": [
    "1. All the data will follow a consistent format which will be easier for data cleaning\n",
    "2. It will be easier for people to combine the dataset with other datasets that are following the same routine"
   ]
  },
  {
   "cell_type": "markdown",
   "metadata": {},
   "source": [
    "##### Concerns"
   ]
  },
  {
   "cell_type": "markdown",
   "metadata": {},
   "source": [
    "1. The first one who created the key might not use a universal way to represent the information\n",
    "\n",
    "2. It will be difficult for people to follow this rule for there is no alert can be made when not following the pattern"
   ]
  }
 ],
 "metadata": {
  "kernelspec": {
   "display_name": "Python 2",
   "language": "python",
   "name": "python2"
  },
  "language_info": {
   "codemirror_mode": {
    "name": "ipython",
    "version": 2
   },
   "file_extension": ".py",
   "mimetype": "text/x-python",
   "name": "python",
   "nbconvert_exporter": "python",
   "pygments_lexer": "ipython2",
   "version": "2.7.13"
  }
 },
 "nbformat": 4,
 "nbformat_minor": 2
}
